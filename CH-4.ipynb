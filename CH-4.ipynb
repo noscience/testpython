{
 "cells": [
  {
   "cell_type": "code",
   "execution_count": 6,
   "metadata": {
    "collapsed": false
   },
   "outputs": [
    {
     "name": "stdout",
     "output_type": "stream",
     "text": [
      "這是小新的狗\n"
     ]
    }
   ],
   "source": [
    "small_dog=(\"彩色\")\n",
    "if small_dog ==(\"黃色\"):\n",
    "    print(\"這是我的狗\")\n",
    "elif small_dog ==(\"藍色\"):\n",
    "    print(\"這是小美的狗\")\n",
    "elif small_dog ==(\"彩色\"):\n",
    "    print(\"這是小新的狗\")\n",
    "else :\n",
    "    print(\"這不知道是誰的狗\")"
   ]
  },
  {
   "cell_type": "code",
   "execution_count": 8,
   "metadata": {
    "collapsed": false
   },
   "outputs": [
    {
     "name": "stdout",
     "output_type": "stream",
     "text": [
      "小貓\n"
     ]
    }
   ],
   "source": [
    "funny=True\n",
    "small=True\n",
    "if funny:\n",
    "    if small:\n",
    "        print(\"小貓\")\n",
    "    else:\n",
    "        print(\"大象\")\n",
    "else:\n",
    "    if small:\n",
    "        print(\"蜈蚣\")\n",
    "    else:\n",
    "        prine(\"獅子\")"
   ]
  },
  {
   "cell_type": "code",
   "execution_count": 9,
   "metadata": {
    "collapsed": false
   },
   "outputs": [
    {
     "name": "stdout",
     "output_type": "stream",
     "text": [
      "來猜猜幸運數字[按q取消]:4\n",
      "你猜不到\n",
      "來猜猜幸運數字[按q取消]:3\n",
      "你猜不到\n",
      "來猜猜幸運數字[按q取消]:2\n",
      "你猜不到\n",
      "來猜猜幸運數字[按q取消]:1\n",
      "你猜不到\n",
      "來猜猜幸運數字[按q取消]:9\n",
      "你猜不到\n",
      "來猜猜幸運數字[按q取消]:8\n",
      "糟糕被你猜到了!\n"
     ]
    }
   ],
   "source": [
    "while True:\n",
    "    number = input(\"來猜猜幸運數字[按q取消]:\")\n",
    "    if number == \"8\":\n",
    "        print(\"糟糕被你猜到了!\")\n",
    "        break\n",
    "    elif number == \"q\":\n",
    "        break\n",
    "    else:\n",
    "        print(\"你猜不到\")"
   ]
  },
  {
   "cell_type": "code",
   "execution_count": null,
   "metadata": {
    "collapsed": true
   },
   "outputs": [],
   "source": []
  }
 ],
 "metadata": {
  "kernelspec": {
   "display_name": "Python 3",
   "language": "python",
   "name": "python3"
  },
  "language_info": {
   "codemirror_mode": {
    "name": "ipython",
    "version": 3
   },
   "file_extension": ".py",
   "mimetype": "text/x-python",
   "name": "python",
   "nbconvert_exporter": "python",
   "pygments_lexer": "ipython3",
   "version": "3.5.0"
  }
 },
 "nbformat": 4,
 "nbformat_minor": 0
}
