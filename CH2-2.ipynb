{
 "cells": [
  {
   "cell_type": "code",
   "execution_count": 8,
   "metadata": {
    "collapsed": false
   },
   "outputs": [
    {
     "name": "stdout",
     "output_type": "stream",
     "text": [
      "隔壁的伯伯姓柯，我們都叫他柯伯，本來人很好自從他老了得了五十肩以後常抱怨肩膀酸變得很討厭誰叫他變成肩酸柯伯...\n"
     ]
    }
   ],
   "source": [
    "print(\"隔壁的伯伯姓柯，我們都叫他柯伯，本來人很好自從他老了得了五十肩以後常抱怨肩膀酸變得很討厭誰叫他變成肩酸柯伯...\")"
   ]
  },
  {
   "cell_type": "code",
   "execution_count": 7,
   "metadata": {
    "collapsed": false
   },
   "outputs": [
    {
     "name": "stdout",
     "output_type": "stream",
     "text": [
      "隔壁的伯伯姓柯，我們都叫他柯伯，本來人很好\n",
      "自從他老了得了五十肩以後\n",
      "常抱怨肩膀酸\n",
      "變得很討厭\n",
      ".\n",
      ".\n",
      ".\n",
      ".\n",
      ".\n",
      ".\n",
      ".\n",
      ".\n",
      ".\n",
      ".\n",
      ".\n",
      "誰叫他變成肩酸柯伯...\n",
      "\n"
     ]
    }
   ],
   "source": [
    "print(\"\"\"隔壁的伯伯姓柯，我們都叫他柯伯，本來人很好\n",
    "自從他老了得了五十肩以後\n",
    "常抱怨肩膀酸\n",
    "變得很討厭\n",
    ".\n",
    ".\n",
    ".\n",
    ".\n",
    ".\n",
    ".\n",
    ".\n",
    ".\n",
    ".\n",
    ".\n",
    ".\n",
    "誰叫他變成肩酸柯伯...\n",
    "\"\"\")"
   ]
  },
  {
   "cell_type": "code",
   "execution_count": 9,
   "metadata": {
    "collapsed": true
   },
   "outputs": [],
   "source": [
    "joke=\"我是帥哥，\\n我是帥哥，\\n我真的是帥哥。\"\n",
    "print()"
   ]
  },
  {
   "cell_type": "code",
   "execution_count": null,
   "metadata": {
    "collapsed": true
   },
   "outputs": [],
   "source": []
  }
 ],
 "metadata": {
  "kernelspec": {
   "display_name": "Python 3",
   "language": "python",
   "name": "python3"
  },
  "language_info": {
   "codemirror_mode": {
    "name": "ipython",
    "version": 3
   },
   "file_extension": ".py",
   "mimetype": "text/x-python",
   "name": "python",
   "nbconvert_exporter": "python",
   "pygments_lexer": "ipython3",
   "version": "3.4.3"
  }
 },
 "nbformat": 4,
 "nbformat_minor": 0
}
